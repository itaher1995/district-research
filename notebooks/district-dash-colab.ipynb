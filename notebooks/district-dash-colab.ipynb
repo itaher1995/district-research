{
 "cells": [
  {
   "cell_type": "markdown",
   "metadata": {},
   "source": [
    "# District Dashboard Launcher\n",
    "\n",
    "The code snippet below is used to launch the District Research dashboard, a tool volunteers and leaders can use to visualize information regarding a congressional district.\n",
    "\n",
    "The script below does the following steps:\n",
    "1. Grabs the code that creates the dashboard from GitHub. See the code at the repo here.\n",
    "\n",
    "2. Downloads and unzips files containing the data used to run this dashboard.\n",
    "\n",
    "3. Sets up the environment by installing pre-requisites needed to run our code.\n",
    "\n",
    "4. Set up the connection to the web server\n",
    "\n",
    "## Instructions\n",
    "\n",
    "### To Connect\n",
    "\n",
    "1. Scroll down a bit and click the play sign below or go to **Runtime > Run all (Ctrl + F9)**. You will see a warning about this notebook was not authored by Google Colab and its being hosted by GitHub. This is fine and you should proceed.\n",
    "\n",
    "2. Once you click the play sign, the dashboard should begin setting up. This may take a few minutes. A lot of text will appear on the screen. Don't worry about output. After the environment is set up, at the bottom of the output, a link should appear that should look like **https://\\*\\*\\*\\*-loca.lt**. Click that link. \n",
    "\n",
    "3. You should be brought to a page that displays a warning. Disregard the warning as you will never be prompted for credentials or financial information while using this tool. You should click the light blue button that says **Click to Continue.**\n",
    "\n",
    "4. Wait a little bit, the code is running to set up the dashboard in the background.\n",
    "\n",
    "5. The dashboard is loaded.\n",
    "\n",
    "### To Disconnect\n",
    "\n",
    "1. To disconnect, please exit out of the dashboard and then scroll up a bit to click the stop sign. Disregard the error message you see. Colab is telling us you killed the process, which is what you wanted to do. If you are having trouble shutting down the process, it's ok to just e\n",
    "\n",
    "2. Exit out of this window.\n",
    "\n",
    "## FAQ\n",
    "\n",
    "If you find that something doesn't look right, please check the [FAQ](https://github.com/bnc-research-team/district-research/blob/develop/FAQ.md)"
   ]
  },
  {
   "cell_type": "code",
   "execution_count": null,
   "metadata": {},
   "outputs": [],
   "source": [
    "%%shell\n",
    "rm -rf *\n",
    "git clone https://github.com/bnc-research-team/district-research.git\n",
    "cd district-research\n",
    "echo 'Downloading and unzipping files'\n",
    "gdown --id '1ZMvr_Ilv4FI7U8dx-dGw19N9XLYAZo0-'\n",
    "gdown --id '1McjoQ7Vgk9GChaSnTnJ5ge1Pk1-2Mu4e'\n",
    "unzip data.zip\n",
    "unzip -f conf.zip\n",
    "echo 'Activating and Creating Environment'\n",
    "pip install -r requirements.txt\n",
    "cd district-research\n",
    "python setup.py install\n",
    "cd ..\n",
    "npm install -g localtunnel\n",
    "streamlit cache clear\n",
    "streamlit run streamlit/app.py &>/dev/null&\n",
    "lt --port 8501"
   ]
  }
 ],
 "metadata": {
  "kernelspec": {
   "display_name": "Python 3",
   "language": "python",
   "name": "python3"
  },
  "language_info": {
   "codemirror_mode": {
    "name": "ipython",
    "version": 3
   },
   "file_extension": ".py",
   "mimetype": "text/x-python",
   "name": "python",
   "nbconvert_exporter": "python",
   "pygments_lexer": "ipython3",
   "version": "3.8.5"
  }
 },
 "nbformat": 4,
 "nbformat_minor": 4
}
