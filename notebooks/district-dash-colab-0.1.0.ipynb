{
 "cells": [
  {
   "cell_type": "markdown",
   "metadata": {},
   "source": [
    "# District Dashboard Launcher\n",
    "\n",
    "The code snippet below is used to launch the District Research dashboard, a tool volunteers and leaders can use to visualize information regarding a congressional district.\n",
    "\n",
    "The script below does the following steps:\n",
    "1. Grabs the code that creates the dashboard from GitHub. See the code at the repo here.\n",
    "\n",
    "2. Downloads and unzips files containing the data used to run this dashboard.\n",
    "\n",
    "3. Sets up the environment by installing pre-requisites needed to run our code.\n",
    "\n",
    "4. Set up the connection to the web server\n",
    "\n",
    "## Instructions\n",
    "\n",
    "1. Click play sign or go to \n",
    "\n",
    "2. Once you click the play sign, the dashboard should begin setting up. This may take a few minutes. At the bottom of the page a link should appear that should look like **https://\\*\\*\\*\\*-loca.lt**. Click that link. \n",
    "\n",
    "3. You should be brought to a page that displays a warning. This warning is telling you that an open connection has been created between the container the colab notebook is running in and the internet. You should click the light blue button on the bottom.\n",
    "\n",
    "4. Wait a little bit, the code is running to set up the dashboard in the background.\n",
    "\n",
    "5. The dashboard is loaded."
   ]
  },
  {
   "cell_type": "code",
   "execution_count": null,
   "metadata": {},
   "outputs": [],
   "source": [
    "%%shell\n",
    "git clone https://github.com/bnc-research-team/district-research.git\n",
    "cd district-research\n",
    "git checkout feature/streamlit\n",
    "echo 'Downloading and unzipping files'\n",
    "gdown --id '1ZMvr_Ilv4FI7U8dx-dGw19N9XLYAZo0-'\n",
    "gdown --id '1McjoQ7Vgk9GChaSnTnJ5ge1Pk1-2Mu4e'\n",
    "unzip data.zip\n",
    "unzip -f conf.zip\n",
    "echo 'Activating and Creating Environment'\n",
    "pip install -r requirements.txt\n",
    "cd district-research\n",
    "python setup.py install\n",
    "cd ..\n",
    "npm install -g localtunnel\n",
    "streamlit cache clear\n",
    "streamlit run streamlit/app.py &>/dev/null&\n",
    "lt --port 8501\n",
    "echo 'Exited program'"
   ]
  }
 ],
 "metadata": {
  "kernelspec": {
   "display_name": "Python 3",
   "language": "python",
   "name": "python3"
  },
  "language_info": {
   "codemirror_mode": {
    "name": "ipython",
    "version": 3
   },
   "file_extension": ".py",
   "mimetype": "text/x-python",
   "name": "python",
   "nbconvert_exporter": "python",
   "pygments_lexer": "ipython3",
   "version": "3.8.5"
  }
 },
 "nbformat": 4,
 "nbformat_minor": 4
}
